{
 "cells": [
  {
   "cell_type": "markdown",
   "metadata": {
    "application/vnd.databricks.v1+cell": {
     "cellMetadata": {
      "byteLimit": 2048000,
      "rowLimit": 10000
     },
     "inputWidgets": {},
     "nuid": "f4e427fe-25c6-4dc4-979e-ce2ef82a0d8b",
     "showTitle": false,
     "tableResultSettingsMap": {},
     "title": ""
    }
   },
   "source": [
    "###Print the pyramid patterns"
   ]
  },
  {
   "cell_type": "code",
   "execution_count": 0,
   "metadata": {
    "application/vnd.databricks.v1+cell": {
     "cellMetadata": {
      "byteLimit": 2048000,
      "rowLimit": 10000
     },
     "inputWidgets": {},
     "nuid": "bae26bff-256f-4eaf-ad8d-a38ecd770bf0",
     "showTitle": false,
     "tableResultSettingsMap": {},
     "title": ""
    }
   },
   "outputs": [
    {
     "output_type": "stream",
     "name": "stdout",
     "output_type": "stream",
     "text": [
      "    *\n   ***\n  *****\n *******\n*********\n"
     ]
    }
   ],
   "source": [
    "def print_pyramid(n):\n",
    "    for i in range(1,n+1):  # range starts from 1 to n+1\n",
    "        print(\" \" * (n-i) + \"*\" * (2*i-1))\n",
    "\n",
    "n=5\n",
    "print_pyramid(n)"
   ]
  },
  {
   "cell_type": "markdown",
   "metadata": {
    "application/vnd.databricks.v1+cell": {
     "cellMetadata": {
      "byteLimit": 2048000,
      "rowLimit": 10000
     },
     "inputWidgets": {},
     "nuid": "71f67ded-03e6-4f56-b44f-1eab428324d0",
     "showTitle": false,
     "tableResultSettingsMap": {},
     "title": ""
    }
   },
   "source": [
    "###Key Value Problems in python"
   ]
  },
  {
   "cell_type": "code",
   "execution_count": 0,
   "metadata": {
    "application/vnd.databricks.v1+cell": {
     "cellMetadata": {
      "byteLimit": 2048000,
      "rowLimit": 10000
     },
     "inputWidgets": {},
     "nuid": "e7c07dde-54f2-4163-87e1-52e14ae4b3da",
     "showTitle": false,
     "tableResultSettingsMap": {},
     "title": ""
    }
   },
   "outputs": [],
   "source": []
  },
  {
   "cell_type": "code",
   "execution_count": 0,
   "metadata": {
    "application/vnd.databricks.v1+cell": {
     "cellMetadata": {
      "byteLimit": 2048000,
      "rowLimit": 10000
     },
     "inputWidgets": {},
     "nuid": "7e3afb24-743a-42d6-bc58-74edd4b2f121",
     "showTitle": false,
     "tableResultSettingsMap": {},
     "title": ""
    }
   },
   "outputs": [
    {
     "output_type": "stream",
     "name": "stdout",
     "output_type": "stream",
     "text": [
      "[{'id': 1, 'value': 40}, {'id': 2, 'value': 20}, {'id': 3, 'value': 40}]\n"
     ]
    }
   ],
   "source": [
    "from collections import defaultdict\n",
    "\n",
    "#We import `defaultdict` from the `collections` module\n",
    "\n",
    "list1 = [\n",
    "   {'id': 1, 'value': 10},\n",
    "   {'id': 2, 'value': 20}\n",
    "]\n",
    "list2 = [\n",
    "   {'id': 1, 'value': 30},\n",
    "   {'id': 3, 'value': 40}\n",
    "]\n",
    "\n",
    "#Dict to store merged results\n",
    "\n",
    "merged_dict={}\n",
    "\n",
    "#populate dict from list1\n",
    "\n",
    "for item in list1: #item = {k:v}\n",
    "    merged_dict[item['id']] = item['value'] \n",
    "    #{ 1:10, 2:20 }\n",
    "\n",
    "for item in list2:\n",
    "    if item['id'] in merged_dict:\n",
    "        merged_dict[item['id']]+= item['value'] #Add to existing value\n",
    "    else:\n",
    "       merged_dict[item['id']] = item['value']  #Insert new id\n",
    "   #{ 1:30 , 3:40 }\n",
    "\n",
    "merged_list=[{'id':k, 'value':v} for k,v in merged_dict.items()]\n",
    "\n",
    "print(merged_list)"
   ]
  },
  {
   "cell_type": "markdown",
   "metadata": {
    "application/vnd.databricks.v1+cell": {
     "cellMetadata": {
      "byteLimit": 2048000,
      "rowLimit": 10000
     },
     "inputWidgets": {},
     "nuid": "49e3a449-88b5-4607-8030-043d710517ee",
     "showTitle": false,
     "tableResultSettingsMap": {},
     "title": ""
    }
   },
   "source": [
    "Create a dictionary where the keys are numbers from 1 to 5, and the values are their squares "
   ]
  },
  {
   "cell_type": "markdown",
   "metadata": {
    "application/vnd.databricks.v1+cell": {
     "cellMetadata": {
      "byteLimit": 2048000,
      "rowLimit": 10000
     },
     "inputWidgets": {},
     "nuid": "1b933d03-0ac4-41f5-b4d3-06a508f56c48",
     "showTitle": false,
     "tableResultSettingsMap": {},
     "title": ""
    }
   },
   "source": [
    "### SQUARE THE DICTIONARY : Example Output : {1:1, 2:4, 3:9, 4:16, 5:25}"
   ]
  },
  {
   "cell_type": "code",
   "execution_count": 0,
   "metadata": {
    "application/vnd.databricks.v1+cell": {
     "cellMetadata": {
      "byteLimit": 2048000,
      "rowLimit": 10000
     },
     "inputWidgets": {},
     "nuid": "fa1ffba1-62d9-4796-9c65-45c5c816968b",
     "showTitle": false,
     "tableResultSettingsMap": {},
     "title": ""
    }
   },
   "outputs": [
    {
     "output_type": "stream",
     "name": "stdout",
     "output_type": "stream",
     "text": [
      "{1: 1, 2: 4, 3: 9, 4: 16, 5: 25}\n"
     ]
    }
   ],
   "source": [
    "def dict_square(n):\n",
    "    square_dict={}\n",
    "    for items in range(1,n+1):\n",
    "        square_dict[items]=items**2 \n",
    "    return square_dict\n",
    "\n",
    "n=5\n",
    "print(dict_square(n))"
   ]
  },
  {
   "cell_type": "markdown",
   "metadata": {
    "application/vnd.databricks.v1+cell": {
     "cellMetadata": {
      "byteLimit": 2048000,
      "rowLimit": 10000
     },
     "inputWidgets": {},
     "nuid": "4fddfca5-d48d-4ee6-83d8-550119d927de",
     "showTitle": false,
     "tableResultSettingsMap": {},
     "title": ""
    }
   },
   "source": [
    "###Access dictionary values"
   ]
  },
  {
   "cell_type": "markdown",
   "metadata": {
    "application/vnd.databricks.v1+cell": {
     "cellMetadata": {
      "byteLimit": 2048000,
      "rowLimit": 10000
     },
     "inputWidgets": {},
     "nuid": "351a0e02-c31a-4eab-abb3-f38471432760",
     "showTitle": false,
     "tableResultSettingsMap": {},
     "title": ""
    }
   },
   "source": [
    "##`student`={'name':'John', 'age':22, 'grade':'A}"
   ]
  },
  {
   "cell_type": "code",
   "execution_count": 0,
   "metadata": {
    "application/vnd.databricks.v1+cell": {
     "cellMetadata": {
      "byteLimit": 2048000,
      "rowLimit": 10000
     },
     "inputWidgets": {},
     "nuid": "be7644a3-07df-4731-b674-a1cd1d64a49b",
     "showTitle": false,
     "tableResultSettingsMap": {},
     "title": ""
    }
   },
   "outputs": [
    {
     "output_type": "stream",
     "name": "stdout",
     "output_type": "stream",
     "text": [
      "22\n"
     ]
    }
   ],
   "source": [
    "student={'name':'John', 'age':22, 'grade':'A'}\n",
    "age=student.get('age')\n",
    "print(age)"
   ]
  },
  {
   "cell_type": "markdown",
   "metadata": {
    "application/vnd.databricks.v1+cell": {
     "cellMetadata": {
      "byteLimit": 2048000,
      "rowLimit": 10000
     },
     "inputWidgets": {},
     "nuid": "de6a3cb3-47eb-41be-bfc4-4dc16673566a",
     "showTitle": false,
     "tableResultSettingsMap": {},
     "title": ""
    }
   },
   "source": [
    "###Check if a age exists in a Dictionary"
   ]
  },
  {
   "cell_type": "code",
   "execution_count": 0,
   "metadata": {
    "application/vnd.databricks.v1+cell": {
     "cellMetadata": {
      "byteLimit": 2048000,
      "rowLimit": 10000
     },
     "inputWidgets": {},
     "nuid": "a725e5c0-2e07-4eea-a482-45f738c3ba85",
     "showTitle": false,
     "tableResultSettingsMap": {},
     "title": ""
    }
   },
   "outputs": [
    {
     "output_type": "stream",
     "name": "stdout",
     "output_type": "stream",
     "text": [
      "None\n"
     ]
    }
   ],
   "source": [
    "person = {'name': 'Alice', 'city': 'New York'}\n",
    "age=person.get('age')\n",
    "print(age)\n"
   ]
  },
  {
   "cell_type": "markdown",
   "metadata": {
    "application/vnd.databricks.v1+cell": {
     "cellMetadata": {
      "byteLimit": 2048000,
      "rowLimit": 10000
     },
     "inputWidgets": {},
     "nuid": "1b1a6ba2-fba2-48a2-95c2-3ec7a408d1d7",
     "showTitle": false,
     "tableResultSettingsMap": {},
     "title": ""
    }
   },
   "source": [
    "###Merge Two Dictionaries"
   ]
  },
  {
   "cell_type": "code",
   "execution_count": 0,
   "metadata": {
    "application/vnd.databricks.v1+cell": {
     "cellMetadata": {
      "byteLimit": 2048000,
      "rowLimit": 10000
     },
     "inputWidgets": {},
     "nuid": "45e26bed-a195-4556-8ec4-9209cd4976d3",
     "showTitle": false,
     "tableResultSettingsMap": {},
     "title": ""
    }
   },
   "outputs": [
    {
     "output_type": "stream",
     "name": "stdout",
     "output_type": "stream",
     "text": [
      "{'a': 10, 'b': 50, 'c': 40}\n"
     ]
    }
   ],
   "source": [
    "dict1 = {'a': 10, 'b': 20}\n",
    "dict2 = {'b': 30, 'c': 40}\n",
    "\n",
    "def sum_dict():\n",
    "    merge_key={}\n",
    "    for k,v in dict1.items():\n",
    "        merge_key[k] = merge_key.get(k,0) + v\n",
    "    for k,v in dict2.items():\n",
    "        merge_key[k] = merge_key.get(k, 0) + v  \n",
    "\n",
    "    return merge_key\n",
    "    \n",
    "print(sum_dict())\n"
   ]
  },
  {
   "cell_type": "markdown",
   "metadata": {
    "application/vnd.databricks.v1+cell": {
     "cellMetadata": {
      "byteLimit": 2048000,
      "rowLimit": 10000
     },
     "inputWidgets": {},
     "nuid": "68c9e3ab-1ee1-4d2a-ac96-914a2e154247",
     "showTitle": false,
     "tableResultSettingsMap": {},
     "title": ""
    }
   },
   "source": [
    "###Sort the Dict by value"
   ]
  },
  {
   "cell_type": "code",
   "execution_count": 0,
   "metadata": {
    "application/vnd.databricks.v1+cell": {
     "cellMetadata": {
      "byteLimit": 2048000,
      "rowLimit": 10000
     },
     "inputWidgets": {},
     "nuid": "c607c0db-ee58-4e37-8a1f-945323b6e269",
     "showTitle": false,
     "tableResultSettingsMap": {},
     "title": ""
    }
   },
   "outputs": [
    {
     "output_type": "stream",
     "name": "stdout",
     "output_type": "stream",
     "text": [
      "{'Charlie': 78, 'Alice': 85, 'Bob': 92}\n"
     ]
    }
   ],
   "source": [
    "def sort_dict_by_values(s):\n",
    "    return dict(sorted(scores.items(), key=lambda x:x[1]))\n",
    "\n",
    "\n",
    "scores = {'Alice': 85, 'Bob': 92, 'Charlie': 78}\n",
    "print(sort_dict_by_values(scores))\t"
   ]
  },
  {
   "cell_type": "markdown",
   "metadata": {
    "application/vnd.databricks.v1+cell": {
     "cellMetadata": {
      "byteLimit": 2048000,
      "rowLimit": 10000
     },
     "inputWidgets": {},
     "nuid": "0b2cde05-6bba-48de-8c0e-0e6497977e61",
     "showTitle": false,
     "tableResultSettingsMap": {},
     "title": ""
    }
   },
   "source": [
    "###Sort the tuples "
   ]
  },
  {
   "cell_type": "code",
   "execution_count": 0,
   "metadata": {
    "application/vnd.databricks.v1+cell": {
     "cellMetadata": {
      "byteLimit": 2048000,
      "rowLimit": 10000
     },
     "inputWidgets": {},
     "nuid": "83b1cbdb-5dc3-4835-94bf-fda0ea5d31f4",
     "showTitle": false,
     "tableResultSettingsMap": {},
     "title": ""
    }
   },
   "outputs": [
    {
     "output_type": "stream",
     "name": "stdout",
     "output_type": "stream",
     "text": [
      "{3: 8, 1: 5, 2: 3, 4: 1}\n[(3, 8), (1, 5), (2, 3), (4, 1)]\n"
     ]
    }
   ],
   "source": [
    "# Sample data\n",
    "data = [(1, 5), (2, 3), (3, 8), (4, 1)]\n",
    "\n",
    "# Custom sorting function (sort by second element in descending order)\n",
    "sorted_data = dict(sorted(data,key=lambda x:x[1], reverse=True))\n",
    "sorted_data1 = sorted(data, key=lambda x: x[1], reverse=True)\n",
    "print(sorted_data)\n",
    "print(sorted_data1)\n"
   ]
  },
  {
   "cell_type": "markdown",
   "metadata": {
    "application/vnd.databricks.v1+cell": {
     "cellMetadata": {
      "byteLimit": 2048000,
      "rowLimit": 10000
     },
     "inputWidgets": {},
     "nuid": "ae1d1cd0-6d28-464a-8ace-b79929c0f4f6",
     "showTitle": false,
     "tableResultSettingsMap": {},
     "title": ""
    }
   },
   "source": [
    "nested_dict = {'a': {'b': {'c': 10}}}\n",
    "\n",
    "``\n",
    "Question: Convert it to a flat dictionary like { 'a_b_c': 10 }.\n"
   ]
  },
  {
   "cell_type": "code",
   "execution_count": 0,
   "metadata": {
    "application/vnd.databricks.v1+cell": {
     "cellMetadata": {
      "byteLimit": 2048000,
      "rowLimit": 10000
     },
     "inputWidgets": {},
     "nuid": "4ecc2bff-5860-4461-9b1d-c5a26c170436",
     "showTitle": false,
     "tableResultSettingsMap": {},
     "title": ""
    }
   },
   "outputs": [
    {
     "output_type": "stream",
     "name": "stdout",
     "output_type": "stream",
     "text": [
      "{'a_b_c': 10}\n"
     ]
    }
   ],
   "source": [
    "def flatten_dict(nested_dict,parent_key=''):\n",
    "    flat_dict={}\n",
    "\n",
    "    for key,value in nested_dict.items():\n",
    "        new_key=f\"{parent_key}_{key}\" if parent_key else key\n",
    "\n",
    "        if isinstance(value,dict):\n",
    "            flat_dict.update(flatten_dict(value,new_key))\n",
    "        else:\n",
    "            flat_dict[new_key] =value\n",
    "\n",
    "    return flat_dict\n",
    "\n",
    "nested_dict={'a':{'b':{'c':10}}} \n",
    "print(flatten_dict(nested_dict))\n",
    "\n",
    "\n",
    "\n",
    "\n",
    "\n",
    "\n"
   ]
  },
  {
   "cell_type": "markdown",
   "metadata": {
    "application/vnd.databricks.v1+cell": {
     "cellMetadata": {
      "byteLimit": 2048000,
      "rowLimit": 10000
     },
     "inputWidgets": {},
     "nuid": "86ed8cf1-5f83-4ec2-810a-7046195f7728",
     "showTitle": false,
     "tableResultSettingsMap": {},
     "title": ""
    }
   },
   "source": [
    "###Convert nested_dict = {'a': {'b': 10}, 'c': 20}\n",
    "###into {'a_b': 10, 'c': 20}\n"
   ]
  },
  {
   "cell_type": "code",
   "execution_count": 0,
   "metadata": {
    "application/vnd.databricks.v1+cell": {
     "cellMetadata": {
      "byteLimit": 2048000,
      "rowLimit": 10000
     },
     "inputWidgets": {},
     "nuid": "9c194b3a-732e-4e54-bbc4-e96bd3e1a1e0",
     "showTitle": true,
     "tableResultSettingsMap": {},
     "title": "CODE"
    }
   },
   "outputs": [
    {
     "output_type": "stream",
     "name": "stdout",
     "output_type": "stream",
     "text": [
      "{'a_b': 10, 'c': 20}\n"
     ]
    }
   ],
   "source": [
    "def nested_flat_dict(nested_dict,parent_key=''):\n",
    "    flat_dict={}\n",
    "    for key,value in nested_dict.items():\n",
    "        new_key = f\"{parent_key}_{key}\" if parent_key else key  # Join keys\n",
    "        if isinstance(value,dict):   # If value is a dictionary\n",
    "            for sub_key,sub_value in value.items():\n",
    "                flat_dict[key+'_'+sub_key] = sub_value\n",
    "        else:\n",
    "            flat_dict[key]=value\n",
    "    return flat_dict\n",
    "\n",
    "nested_dict = {'a': {'b': 10}, 'c': 20}\n",
    "\n",
    "print(nested_flat_dict(nested_dict))"
   ]
  },
  {
   "cell_type": "markdown",
   "metadata": {
    "application/vnd.databricks.v1+cell": {
     "cellMetadata": {
      "byteLimit": 2048000,
      "rowLimit": 10000
     },
     "inputWidgets": {},
     "nuid": "d7c7d4e2-348c-43b8-a430-7be54d777897",
     "showTitle": false,
     "tableResultSettingsMap": {},
     "title": ""
    }
   },
   "source": [
    "###Find the even or Odd number ( From latent view)\n",
    "li =[1,........,10]\n",
    "\n",
    "##square -- even\n",
    "##odd --cube\n"
   ]
  },
  {
   "cell_type": "code",
   "execution_count": 0,
   "metadata": {
    "application/vnd.databricks.v1+cell": {
     "cellMetadata": {
      "byteLimit": 2048000,
      "rowLimit": 10000
     },
     "inputWidgets": {},
     "nuid": "baf9ef53-38d3-4383-9bff-e221c330136c",
     "showTitle": false,
     "tableResultSettingsMap": {},
     "title": ""
    }
   },
   "outputs": [
    {
     "output_type": "stream",
     "name": "stdout",
     "output_type": "stream",
     "text": [
      "The number 1 is Odd\nThe number 2 is Even\nThe number 3 is Odd\nThe number 4 is Even\nThe number 5 is Odd\nThe number 6 is Even\nThe number 7 is Odd\nThe number 8 is Even\nThe number 9 is Odd\nThe number 10 is Even\n[1, 4, 27, 16, 125, 36, 343, 64, 729, 100]\n"
     ]
    }
   ],
   "source": [
    "def square_cube(num):\n",
    "    emp_list=[]\n",
    "    for n in num:\n",
    "        if n%2==0:\n",
    "            emp_list.append(n**2)\n",
    "            print(f\"The number {n} is Even\")\n",
    "        else: \n",
    "            emp_list.append(n**3)\n",
    "            print(f\"The number {n} is Odd\")\n",
    "    return emp_list\n",
    "li=[1,2,3,4,5,6,7,8,9,10]\n",
    "print(square_cube(li))"
   ]
  },
  {
   "cell_type": "markdown",
   "metadata": {
    "application/vnd.databricks.v1+cell": {
     "cellMetadata": {
      "byteLimit": 2048000,
      "rowLimit": 10000
     },
     "inputWidgets": {},
     "nuid": "9a275596-30e7-4706-b4a1-eecfb2527188",
     "showTitle": false,
     "tableResultSettingsMap": {},
     "title": ""
    }
   },
   "source": [
    "###List Comprehensions"
   ]
  },
  {
   "cell_type": "markdown",
   "metadata": {
    "application/vnd.databricks.v1+cell": {
     "cellMetadata": {
      "byteLimit": 2048000,
      "rowLimit": 10000
     },
     "inputWidgets": {},
     "nuid": "8043db8f-d1da-4fe4-9799-183a464ef2b7",
     "showTitle": false,
     "tableResultSettingsMap": {},
     "title": ""
    }
   },
   "source": [
    "###Write a list comprehension to filter and square only the even numbers from a given list"
   ]
  },
  {
   "cell_type": "code",
   "execution_count": 0,
   "metadata": {
    "application/vnd.databricks.v1+cell": {
     "cellMetadata": {
      "byteLimit": 2048000,
      "rowLimit": 10000
     },
     "inputWidgets": {},
     "nuid": "a35d2ed3-9dd6-4df5-9fb4-7ba6cfdd634f",
     "showTitle": false,
     "tableResultSettingsMap": {},
     "title": ""
    }
   },
   "outputs": [
    {
     "output_type": "stream",
     "name": "stdout",
     "output_type": "stream",
     "text": [
      "[4, 16, 36, 64, 100]\n"
     ]
    }
   ],
   "source": [
    "numbers=[1,2,3,4,5,6,7,8,9,10]\n",
    "square_num=[x**2 for x in numbers if x%2==0]\n",
    "\n",
    "print(square_num)"
   ]
  },
  {
   "cell_type": "markdown",
   "metadata": {
    "application/vnd.databricks.v1+cell": {
     "cellMetadata": {
      "byteLimit": 2048000,
      "rowLimit": 10000
     },
     "inputWidgets": {},
     "nuid": "58ad402e-5ec6-4e8c-ae80-9b4b946541b1",
     "showTitle": false,
     "tableResultSettingsMap": {},
     "title": ""
    }
   },
   "source": [
    "###Find ODD Numbers in List comprehension"
   ]
  },
  {
   "cell_type": "code",
   "execution_count": 0,
   "metadata": {
    "application/vnd.databricks.v1+cell": {
     "cellMetadata": {
      "byteLimit": 2048000,
      "rowLimit": 10000
     },
     "inputWidgets": {},
     "nuid": "1a9de805-7fb8-4554-b5db-7aff61805255",
     "showTitle": false,
     "tableResultSettingsMap": {},
     "title": ""
    }
   },
   "outputs": [
    {
     "output_type": "stream",
     "name": "stdout",
     "output_type": "stream",
     "text": [
      "[1, 3, 5, 7, 9]\n"
     ]
    }
   ],
   "source": [
    "numbers=[1,2,3,4,5,6,7,8,9,10]\n",
    "odd_num=[x for x in numbers if x%2!=0]\n",
    "\n",
    "print(odd_num)\n"
   ]
  },
  {
   "cell_type": "markdown",
   "metadata": {
    "application/vnd.databricks.v1+cell": {
     "cellMetadata": {
      "byteLimit": 2048000,
      "rowLimit": 10000
     },
     "inputWidgets": {},
     "nuid": "f067cf65-bb33-4152-b331-03a0ccaa3f2f",
     "showTitle": false,
     "tableResultSettingsMap": {},
     "title": ""
    }
   },
   "source": [
    "###PANDAS"
   ]
  },
  {
   "cell_type": "markdown",
   "metadata": {
    "application/vnd.databricks.v1+cell": {
     "cellMetadata": {
      "byteLimit": 2048000,
      "rowLimit": 10000
     },
     "inputWidgets": {},
     "nuid": "545ffd05-9915-4998-90c3-726c604626c9",
     "showTitle": false,
     "tableResultSettingsMap": {},
     "title": ""
    }
   },
   "source": [
    "\n",
    "Task:\n",
    "Write a Python function to:\n",
    "\n",
    "\n",
    "✅ Load the CSV file into a Pandas DataFrame.\n",
    "\n",
    "\n",
    "✅ Filter out employees who joined before 2021.\n",
    "\n",
    "\n",
    "✅ Sort them by salary in descending order.\n",
    "\n",
    "\n",
    "✅ Save the filtered result as a new CSV file filtered_employees.csv."
   ]
  },
  {
   "cell_type": "code",
   "execution_count": 0,
   "metadata": {
    "application/vnd.databricks.v1+cell": {
     "cellMetadata": {
      "byteLimit": 2048000,
      "rowLimit": 10000
     },
     "inputWidgets": {},
     "nuid": "af3d0bf2-fc3a-4d70-b119-42c3684fd8ea",
     "showTitle": false,
     "tableResultSettingsMap": {},
     "title": ""
    }
   },
   "outputs": [
    {
     "output_type": "stream",
     "name": "stdout",
     "output_type": "stream",
     "text": [
      "   customer_id  amount        date\n0            1     500  2024-03-01\n3            3     450  2024-03-02\n1            2     300  2024-03-01\n2            1     200  2024-03-02\n4            2     150  2024-03-03\n"
     ]
    }
   ],
   "source": [
    "import pandas as pd\n",
    "\n",
    "data= [\n",
    "  {\"customer_id\": 1, \"amount\": 500, \"date\": \"2024-03-01\"},\n",
    "  {\"customer_id\": 2, \"amount\": 300, \"date\": \"2024-03-01\"},\n",
    "  {\"customer_id\": 1, \"amount\": 200, \"date\": \"2024-03-02\"},\n",
    "  {\"customer_id\": 3, \"amount\": 450, \"date\": \"2024-03-02\"},\n",
    "  {\"customer_id\": 2, \"amount\": 150, \"date\": \"2024-03-03\"}\n",
    "]\n",
    "\n",
    "\n",
    "df=pd.DataFrame(data)\n",
    "\n",
    "df_filtered_join=df[df[\"date\"]>'2021-01-01'].sort_values(by=\"amount\", ascending=False)\n",
    "\n",
    "print(df_filtered_join)\n"
   ]
  },
  {
   "cell_type": "markdown",
   "metadata": {
    "application/vnd.databricks.v1+cell": {
     "cellMetadata": {
      "byteLimit": 2048000,
      "rowLimit": 10000
     },
     "inputWidgets": {},
     "nuid": "66322994-2024-469b-ba28-21b7004af849",
     "showTitle": false,
     "tableResultSettingsMap": {},
     "title": ""
    }
   },
   "source": [
    "###Filter customer transactions stored as a JSON file."
   ]
  },
  {
   "cell_type": "code",
   "execution_count": 0,
   "metadata": {
    "application/vnd.databricks.v1+cell": {
     "cellMetadata": {
      "byteLimit": 2048000,
      "rowLimit": 10000
     },
     "inputWidgets": {},
     "nuid": "439ee5e9-576e-4d0b-ad1a-a27a05a5bd32",
     "showTitle": false,
     "tableResultSettingsMap": {},
     "title": ""
    }
   },
   "outputs": [
    {
     "output_type": "stream",
     "name": "stdout",
     "output_type": "stream",
     "text": [
      "+------+-----------+----------+\n|amount|customer_id|      date|\n+------+-----------+----------+\n|   500|          1|2024-03-01|\n|   450|          3|2024-03-02|\n|   300|          2|2024-03-01|\n|   200|          1|2024-03-02|\n|   150|          2|2024-03-03|\n+------+-----------+----------+\n\n"
     ]
    }
   ],
   "source": [
    "from pyspark.sql import SparkSession\n",
    "from pyspark.sql.functions import *\n",
    "from pyspark.sql.types import *\n",
    "\n",
    "spark = SparkSession.builder.appName(\"DataProcessing\").getOrCreate()\n",
    "\n",
    "data = [\n",
    "    {\"customer_id\": 1, \"amount\": 500, \"date\": \"2024-03-01\"},\n",
    "    {\"customer_id\": 2, \"amount\": 300, \"date\": \"2024-03-01\"},\n",
    "    {\"customer_id\": 1, \"amount\": 200, \"date\": \"2024-03-02\"},\n",
    "    {\"customer_id\": 3, \"amount\": 450, \"date\": \"2024-03-02\"},\n",
    "    {\"customer_id\": 2, \"amount\": 150, \"date\": \"2024-03-03\"}\n",
    "]\n",
    "\n",
    "#Create DataFrame\n",
    "df=spark.createDataFrame(data)\n",
    "\n",
    "#Convert date column to actual date format\n",
    "\n",
    "df=df.withColumn(\"date\",to_date(col(\"date\"),\"yyyy-MM-dd\"))\n",
    "\n",
    "## Filter rows where date is after 2021\n",
    "\n",
    "df_filtered=df.filter(col(\"date\")>\"2021-01-01\").orderBy(desc(\"amount\"))\n",
    "\n",
    "\n",
    "df_filtered.show()\n",
    "\n",
    "#mentitioning mode is very important\n",
    "df_filtered.write.mode(\"overwrite\").csv(\"filtered_transaction\")"
   ]
  },
  {
   "cell_type": "code",
   "execution_count": 0,
   "metadata": {
    "application/vnd.databricks.v1+cell": {
     "cellMetadata": {
      "byteLimit": 2048000,
      "rowLimit": 10000
     },
     "inputWidgets": {},
     "nuid": "062a7e3f-fbf3-45d9-a74b-7ad366258097",
     "showTitle": false,
     "tableResultSettingsMap": {},
     "title": ""
    }
   },
   "outputs": [
    {
     "output_type": "stream",
     "name": "stdout",
     "output_type": "stream",
     "text": [
      "+------+-----------+----------+\n|amount|customer_id|      date|\n+------+-----------+----------+\n|   500|          1|2024-03-01|\n|   450|          3|2024-03-02|\n|   300|          2|2024-03-01|\n|   200|          1|2024-03-02|\n|   150|          2|2024-03-03|\n+------+-----------+----------+\n\n"
     ]
    }
   ],
   "source": [
    "df_filtered.show()"
   ]
  },
  {
   "cell_type": "markdown",
   "metadata": {
    "application/vnd.databricks.v1+cell": {
     "cellMetadata": {
      "byteLimit": 2048000,
      "rowLimit": 10000
     },
     "inputWidgets": {},
     "nuid": "b42d65c6-29a5-458f-a457-0ec3d790ba1b",
     "showTitle": false,
     "tableResultSettingsMap": {},
     "title": ""
    }
   },
   "source": [
    "##Parallel Data Processing with Multiprocessing"
   ]
  },
  {
   "cell_type": "markdown",
   "metadata": {
    "application/vnd.databricks.v1+cell": {
     "cellMetadata": {
      "byteLimit": 2048000,
      "rowLimit": 10000
     },
     "inputWidgets": {},
     "nuid": "bffb3a17-cb5e-4c47-99c7-f8bc853adc24",
     "showTitle": false,
     "tableResultSettingsMap": {},
     "title": ""
    }
   },
   "source": [
    "####You have a list of 1 million numbers. Write a Python program using multiprocessing to compute the sum of squares of these numbers efficiently.\n",
    "\n"
   ]
  },
  {
   "cell_type": "code",
   "execution_count": 0,
   "metadata": {
    "application/vnd.databricks.v1+cell": {
     "cellMetadata": {
      "byteLimit": 2048000,
      "rowLimit": 10000
     },
     "inputWidgets": {},
     "nuid": "d8805651-4c74-4c53-963f-eb2a7250e477",
     "showTitle": false,
     "tableResultSettingsMap": {},
     "title": ""
    }
   },
   "outputs": [],
   "source": [
    "def multiprocess(i):\n",
    "  for i in range(1,100000):\n",
    "    sum= i**2\n",
    "  return i\n",
    "\n",
    "print(multiprocess(i))  ;\n",
    "\n",
    "\n",
    "\n"
   ]
  },
  {
   "cell_type": "code",
   "execution_count": 0,
   "metadata": {
    "application/vnd.databricks.v1+cell": {
     "cellMetadata": {
      "byteLimit": 2048000,
      "rowLimit": 10000
     },
     "inputWidgets": {},
     "nuid": "506bffc0-9561-47e2-bfa3-7bfc02006acf",
     "showTitle": false,
     "tableResultSettingsMap": {},
     "title": ""
    }
   },
   "outputs": [
    {
     "output_type": "stream",
     "name": "stdout",
     "output_type": "stream",
     "text": [
      "edcba\n"
     ]
    }
   ],
   "source": [
    "#Str_var = “abcde” \n",
    "#Reverse the string using built-in function:\n",
    "\n",
    "def rev_str(s):\n",
    "    \n",
    "    return s[::-1]\n",
    "    \n",
    "var='abcde' \n",
    "\n",
    "print(rev_str(var))\n",
    "\n"
   ]
  },
  {
   "cell_type": "code",
   "execution_count": 0,
   "metadata": {
    "application/vnd.databricks.v1+cell": {
     "cellMetadata": {
      "byteLimit": 2048000,
      "rowLimit": 10000
     },
     "inputWidgets": {},
     "nuid": "cc4dbdc4-902e-400c-a297-8bb8b34556d4",
     "showTitle": false,
     "tableResultSettingsMap": {},
     "title": ""
    }
   },
   "outputs": [
    {
     "output_type": "stream",
     "name": "stdout",
     "output_type": "stream",
     "text": [
      "NAAVUMAD \n"
     ]
    }
   ],
   "source": [
    "#Str_var = “abcde” \n",
    "#Reverse the string without inbuilt functions or higher order functions\n",
    "\n",
    "def reverse_str(var):\n",
    "    emp_string= \" \"\n",
    "    for i in var:\n",
    "        emp_string= i + emp_string\n",
    "    return emp_string\n",
    "\n",
    "s=\"DAMUVAAN\"\n",
    "print(reverse_str(s))\n",
    "    "
   ]
  },
  {
   "cell_type": "code",
   "execution_count": 0,
   "metadata": {
    "application/vnd.databricks.v1+cell": {
     "cellMetadata": {
      "byteLimit": 2048000,
      "rowLimit": 10000
     },
     "inputWidgets": {},
     "nuid": "627613e4-92fa-4bf1-b14e-28a1477db319",
     "showTitle": false,
     "tableResultSettingsMap": {},
     "title": ""
    }
   },
   "outputs": [
    {
     "output_type": "stream",
     "name": "stdout",
     "output_type": "stream",
     "text": [
      "NAAVUMAD\n"
     ]
    }
   ],
   "source": [
    "def reverse_str(var):\n",
    "    rev_str = \"\"  # Empty string to store reversed result\n",
    "    for i in var:\n",
    "        rev_str = i + rev_str  # Prepend each character\n",
    "    return rev_str\n",
    "\n",
    "s = \"DAMUVAAN\"\n",
    "print(reverse_str(s))  # Output: \"NAAVUMAD\"\n"
   ]
  },
  {
   "cell_type": "markdown",
   "metadata": {
    "application/vnd.databricks.v1+cell": {
     "cellMetadata": {
      "byteLimit": 2048000,
      "rowLimit": 10000
     },
     "inputWidgets": {},
     "nuid": "0c1d8c5d-787e-429f-a365-20d7eb9292d0",
     "showTitle": false,
     "tableResultSettingsMap": {},
     "title": ""
    }
   },
   "source": [
    "###Write a Python function to count the number of strings in a given list. The function should count only those strings that have at least one character (ignore empty strings)."
   ]
  },
  {
   "cell_type": "markdown",
   "metadata": {
    "application/vnd.databricks.v1+cell": {
     "cellMetadata": {
      "byteLimit": 2048000,
      "rowLimit": 10000
     },
     "inputWidgets": {},
     "nuid": "752e7c2f-a890-410f-9deb-2ed24004f264",
     "showTitle": false,
     "tableResultSettingsMap": {},
     "title": ""
    }
   },
   "source": [
    "###words = [\"apple\", \"banana\", \"\", \"cherry\", \" \", \"date\", \"123\", \"\"]\n"
   ]
  },
  {
   "cell_type": "code",
   "execution_count": 0,
   "metadata": {
    "application/vnd.databricks.v1+cell": {
     "cellMetadata": {
      "byteLimit": 2048000,
      "rowLimit": 10000
     },
     "inputWidgets": {},
     "nuid": "508d7162-1052-45a5-8929-2654da92f120",
     "showTitle": false,
     "tableResultSettingsMap": {},
     "title": ""
    }
   },
   "outputs": [],
   "source": [
    "def count_String(str):\n",
    "    count_ls=[]\n",
    "    for i in str:\n",
    "        if i is empty():\n",
    "            count_ls=0\n",
    "        else:\n",
    "            i = list[]\n",
    "\n",
    "words = [\"apple\", \"banana\", \"\", \"cherry\", \" \", \"date\", \"123\", \"\"]\n",
    "\n",
    "print(count_String(str))\n"
   ]
  },
  {
   "cell_type": "code",
   "execution_count": 0,
   "metadata": {
    "application/vnd.databricks.v1+cell": {
     "cellMetadata": {
      "byteLimit": 2048000,
      "rowLimit": 10000
     },
     "inputWidgets": {},
     "nuid": "21bf47af-706c-40ad-8e0a-3869f10cc0a2",
     "showTitle": false,
     "tableResultSettingsMap": {},
     "title": ""
    }
   },
   "outputs": [
    {
     "output_type": "stream",
     "name": "stdout",
     "output_type": "stream",
     "text": [
      "5\n"
     ]
    }
   ],
   "source": [
    "words = [\"apple\", \"banana\", \"\", \"cherry\", \" \", \"date\", \"123\", \"  \"]\n",
    "\n",
    "#Remove empty & white-spaces \n",
    "\n",
    "filtered_Words= [i for i in words if i.strip()]\n",
    "\n",
    "print(len(filtered_Words))"
   ]
  },
  {
   "cell_type": "markdown",
   "metadata": {
    "application/vnd.databricks.v1+cell": {
     "cellMetadata": {
      "byteLimit": 2048000,
      "rowLimit": 10000
     },
     "inputWidgets": {},
     "nuid": "65b94e28-06f0-4eeb-8893-7b08a5722548",
     "showTitle": false,
     "tableResultSettingsMap": {},
     "title": ""
    }
   },
   "source": [
    "###Zero Converter - Python"
   ]
  },
  {
   "cell_type": "code",
   "execution_count": 0,
   "metadata": {
    "application/vnd.databricks.v1+cell": {
     "cellMetadata": {
      "byteLimit": 2048000,
      "rowLimit": 10000
     },
     "inputWidgets": {},
     "nuid": "df19f3a6-c447-4e11-b8fa-f9f9bea5d66d",
     "showTitle": false,
     "tableResultSettingsMap": {},
     "title": ""
    }
   },
   "outputs": [],
   "source": [
    "n--> negative , print num from n to 0 by + 1 to n ((n+1))\n",
    "n--> positive, print num from n-1 to 0 by subtracting 1 from n  ((n-1))"
   ]
  },
  {
   "cell_type": "code",
   "execution_count": 0,
   "metadata": {
    "application/vnd.databricks.v1+cell": {
     "cellMetadata": {
      "byteLimit": 2048000,
      "rowLimit": 10000
     },
     "inputWidgets": {},
     "nuid": "6780f4ad-6872-43cb-8852-befa5185ffbb",
     "showTitle": false,
     "tableResultSettingsMap": {},
     "title": ""
    }
   },
   "outputs": [
    {
     "output_type": "stream",
     "name": "stdout",
     "output_type": "stream",
     "text": [
      "0\nNone\n"
     ]
    }
   ],
   "source": [
    "def neg(n):\n",
    "    if n<0:\n",
    "      for i in range(n+1,1):\n",
    "        print(i+1, end=\" \") \n",
    "    elif n>0:\n",
    "        print(i-1, end=\" \") \n",
    "    else:\n",
    "        print(0)\n",
    "\n",
    "num=0\n",
    "print(neg(num))"
   ]
  },
  {
   "cell_type": "code",
   "execution_count": 0,
   "metadata": {
    "application/vnd.databricks.v1+cell": {
     "cellMetadata": {
      "byteLimit": 2048000,
      "rowLimit": 10000
     },
     "inputWidgets": {},
     "nuid": "ba0a9676-59b2-4b0e-9790-557f3158166e",
     "showTitle": false,
     "tableResultSettingsMap": {},
     "title": ""
    }
   },
   "outputs": [
    {
     "output_type": "stream",
     "name": "stdout",
     "output_type": "stream",
     "text": [
      "2\n35\n"
     ]
    }
   ],
   "source": [
    "lst = [2,4,3,51,35,50]\n",
    "print(lst[0])\n",
    "a=lst[4]\n",
    "print(a)"
   ]
  },
  {
   "cell_type": "code",
   "execution_count": 0,
   "metadata": {
    "application/vnd.databricks.v1+cell": {
     "cellMetadata": {
      "byteLimit": 2048000,
      "rowLimit": 10000
     },
     "inputWidgets": {},
     "nuid": "acc8c8f5-2cec-4412-b9bd-f9401d6b0116",
     "showTitle": false,
     "tableResultSettingsMap": {},
     "title": ""
    }
   },
   "outputs": [],
   "source": []
  },
  {
   "cell_type": "code",
   "execution_count": 0,
   "metadata": {
    "application/vnd.databricks.v1+cell": {
     "cellMetadata": {
      "byteLimit": 2048000,
      "rowLimit": 10000
     },
     "inputWidgets": {},
     "nuid": "f72443ca-b52d-4abd-8c5f-f71ff82125c0",
     "showTitle": false,
     "tableResultSettingsMap": {},
     "title": ""
    }
   },
   "outputs": [],
   "source": []
  },
  {
   "cell_type": "markdown",
   "metadata": {
    "application/vnd.databricks.v1+cell": {
     "cellMetadata": {
      "byteLimit": 2048000,
      "rowLimit": 10000
     },
     "inputWidgets": {},
     "nuid": "61594cd7-4300-4f2e-932f-e9c7a1944bf4",
     "showTitle": false,
     "tableResultSettingsMap": {},
     "title": ""
    }
   },
   "source": [
    "###Using List Comprehension"
   ]
  },
  {
   "cell_type": "code",
   "execution_count": 0,
   "metadata": {
    "application/vnd.databricks.v1+cell": {
     "cellMetadata": {
      "byteLimit": 2048000,
      "rowLimit": 10000
     },
     "inputWidgets": {},
     "nuid": "50606b02-7d4e-4dd7-84b7-8335870d032d",
     "showTitle": false,
     "tableResultSettingsMap": {},
     "title": ""
    }
   },
   "outputs": [
    {
     "output_type": "stream",
     "name": "stdout",
     "output_type": "stream",
     "text": [
      "[30, 40, 50]\n"
     ]
    }
   ],
   "source": [
    "a = [10, 20, 30, 40, 50]\n",
    "\n",
    "# Create a new list with items greater than 20\n",
    "\n",
    "b =[item for item in a if item>20]\n",
    "\n",
    "print(b)\n"
   ]
  },
  {
   "cell_type": "markdown",
   "metadata": {
    "application/vnd.databricks.v1+cell": {
     "cellMetadata": {
      "byteLimit": 2048000,
      "rowLimit": 10000
     },
     "inputWidgets": {},
     "nuid": "ddd0fbe9-ed84-4eb2-bbf4-c9a0a90507d0",
     "showTitle": false,
     "tableResultSettingsMap": {},
     "title": ""
    }
   },
   "source": [
    "###Using List Slicing"
   ]
  },
  {
   "cell_type": "markdown",
   "metadata": {
    "application/vnd.databricks.v1+cell": {
     "cellMetadata": {
      "byteLimit": 2048000,
      "rowLimit": 10000
     },
     "inputWidgets": {},
     "nuid": "9f03b6f1-4965-4c9c-a171-b072f3630196",
     "showTitle": false,
     "tableResultSettingsMap": {},
     "title": ""
    }
   },
   "source": [
    "Slicing is another way to access multiple items from a list. We can get a range of items by specifying a starting index and an ending index. The starting index is included, but the ending index is not"
   ]
  },
  {
   "cell_type": "code",
   "execution_count": 0,
   "metadata": {
    "application/vnd.databricks.v1+cell": {
     "cellMetadata": {
      "byteLimit": 2048000,
      "rowLimit": 10000
     },
     "inputWidgets": {},
     "nuid": "596ff713-0f0a-4ce6-b295-6fb4beed70e2",
     "showTitle": false,
     "tableResultSettingsMap": {},
     "title": ""
    }
   },
   "outputs": [
    {
     "output_type": "stream",
     "name": "stdout",
     "output_type": "stream",
     "text": [
      "[20, 30, 40]\n"
     ]
    }
   ],
   "source": [
    "a = [ 10, 20, 30, 40, 50 ]\n",
    "\n",
    "#Get a slice of the list from index 1 to 3\n",
    "\n",
    "print(a[1:4])"
   ]
  },
  {
   "cell_type": "code",
   "execution_count": 0,
   "metadata": {
    "application/vnd.databricks.v1+cell": {
     "cellMetadata": {
      "byteLimit": 2048000,
      "rowLimit": 10000
     },
     "inputWidgets": {},
     "nuid": "227c9ae9-c637-4510-8991-f49eaebf923a",
     "showTitle": false,
     "tableResultSettingsMap": {},
     "title": ""
    }
   },
   "outputs": [
    {
     "output_type": "stream",
     "name": "stdout",
     "output_type": "stream",
     "text": [
      "10\n20\n30\n40\n50\n"
     ]
    }
   ],
   "source": [
    "a = [10, 20, 30, 40, 50]\n",
    "# Loop through the list and print each item\n",
    "\n",
    "for item in a:\n",
    "    print(item)"
   ]
  },
  {
   "cell_type": "markdown",
   "metadata": {
    "application/vnd.databricks.v1+cell": {
     "cellMetadata": {
      "byteLimit": 2048000,
      "rowLimit": 10000
     },
     "inputWidgets": {},
     "nuid": "d8f9427f-08f3-45c9-a48b-dcd706a4fc92",
     "showTitle": false,
     "tableResultSettingsMap": {},
     "title": ""
    }
   },
   "source": [
    "###Dictionary"
   ]
  },
  {
   "cell_type": "code",
   "execution_count": 0,
   "metadata": {
    "application/vnd.databricks.v1+cell": {
     "cellMetadata": {
      "byteLimit": 2048000,
      "rowLimit": 10000
     },
     "inputWidgets": {},
     "nuid": "a38e4f08-9a43-4293-b384-0154ce0f04c9",
     "showTitle": false,
     "tableResultSettingsMap": {},
     "title": ""
    }
   },
   "outputs": [
    {
     "output_type": "stream",
     "name": "stdout",
     "output_type": "stream",
     "text": [
      "Out[2]: 3"
     ]
    }
   ],
   "source": [
    "a = {\"Geeks\": 3, \"for\": 2, \"geeks\": 1}\n",
    "\n",
    "print(a['Geeks'])"
   ]
  },
  {
   "cell_type": "markdown",
   "metadata": {
    "application/vnd.databricks.v1+cell": {
     "cellMetadata": {},
     "inputWidgets": {},
     "nuid": "48bc248b-d800-46f8-8f32-5a001b151f72",
     "showTitle": false,
     "tableResultSettingsMap": {},
     "title": ""
    }
   },
   "source": [
    "###Python – Access Dictionary items\n"
   ]
  },
  {
   "cell_type": "code",
   "execution_count": 0,
   "metadata": {
    "application/vnd.databricks.v1+cell": {
     "cellMetadata": {
      "byteLimit": 2048000,
      "rowLimit": 10000
     },
     "inputWidgets": {},
     "nuid": "a6701578-c77f-423c-a563-b54e7e34362e",
     "showTitle": false,
     "tableResultSettingsMap": {},
     "title": ""
    }
   },
   "outputs": [
    {
     "output_type": "stream",
     "name": "stdout",
     "output_type": "stream",
     "text": [
      "dict_values([3, 2, 1])\n"
     ]
    }
   ],
   "source": [
    "a = {\"Geeks\": 3, \"for\": 2, \"geeks\": 1}\n",
    "\n",
    "val = a.values()\n",
    "\n",
    "print(val)"
   ]
  },
  {
   "cell_type": "code",
   "execution_count": 0,
   "metadata": {
    "application/vnd.databricks.v1+cell": {
     "cellMetadata": {
      "byteLimit": 2048000,
      "rowLimit": 10000
     },
     "inputWidgets": {},
     "nuid": "513c79a1-3dce-4595-ae5c-38dbbea9e758",
     "showTitle": false,
     "tableResultSettingsMap": {},
     "title": ""
    }
   },
   "outputs": [
    {
     "output_type": "stream",
     "name": "stdout",
     "output_type": "stream",
     "text": [
      "geeks 3\nfor 2\nGeeks 1\n"
     ]
    }
   ],
   "source": [
    "a = {'geeks': 3, 'for': 2, 'Geeks': 1}  \n",
    "\n",
    "# Looping through each key in the dictionary 'a'\n",
    "for key in a:\n",
    "    print(key,a[key])"
   ]
  },
  {
   "cell_type": "markdown",
   "metadata": {
    "application/vnd.databricks.v1+cell": {
     "cellMetadata": {},
     "inputWidgets": {},
     "nuid": "104c2076-53af-4029-9c20-53fb0ca5fc87",
     "showTitle": false,
     "tableResultSettingsMap": {},
     "title": ""
    }
   },
   "source": [
    "###zip() in python"
   ]
  },
  {
   "cell_type": "code",
   "execution_count": 0,
   "metadata": {
    "application/vnd.databricks.v1+cell": {
     "cellMetadata": {},
     "inputWidgets": {},
     "nuid": "26b4a6e4-9e33-443a-9310-f4ed1c31b51b",
     "showTitle": false,
     "tableResultSettingsMap": {},
     "title": ""
    }
   },
   "outputs": [],
   "source": [
    "The zip() function in python combines the multiple iterables such as lists, tuples, strings, dict,etc., into single iterator of tuples. \n",
    "Each tuple contains elements from the input iterables that are at the same position.\n",
    "\n"
   ]
  },
  {
   "cell_type": "code",
   "execution_count": 0,
   "metadata": {
    "application/vnd.databricks.v1+cell": {
     "cellMetadata": {
      "byteLimit": 2048000,
      "rowLimit": 10000
     },
     "inputWidgets": {},
     "nuid": "7b062872-a546-4e81-9ce0-ddaa5f1bc79a",
     "showTitle": false,
     "tableResultSettingsMap": {},
     "title": ""
    }
   },
   "outputs": [
    {
     "output_type": "stream",
     "name": "stdout",
     "output_type": "stream",
     "text": [
      "{'John': 85, 'Alice': 90, 'Bob': 78, 'Lucy': 92}\n"
     ]
    }
   ],
   "source": [
    "names = ['John', 'Alice', 'Bob', 'Lucy']\n",
    "scores = [85, 90, 78, 92]\n",
    "\n",
    "mul_iter=zip(names,scores) #Zip() pairs the elements\n",
    "\n",
    "print(dict(mul_iter))  #converts into dict"
   ]
  },
  {
   "cell_type": "code",
   "execution_count": 0,
   "metadata": {
    "application/vnd.databricks.v1+cell": {
     "cellMetadata": {
      "byteLimit": 2048000,
      "rowLimit": 10000
     },
     "inputWidgets": {},
     "nuid": "f97fc42a-b371-4d58-a26c-b4efbceb43cd",
     "showTitle": false,
     "tableResultSettingsMap": {},
     "title": ""
    }
   },
   "outputs": [
    {
     "output_type": "stream",
     "name": "stdout",
     "output_type": "stream",
     "text": [
      "taerg si nohtyP"
     ]
    }
   ],
   "source": [
    "s = \"Python is great\"\n",
    "\n",
    "for char in reversed(s):\n",
    "    print(char, end=\"\")"
   ]
  },
  {
   "cell_type": "markdown",
   "metadata": {
    "application/vnd.databricks.v1+cell": {
     "cellMetadata": {},
     "inputWidgets": {},
     "nuid": "5a1004e4-bb54-4206-86d8-a5ea1bbe4459",
     "showTitle": false,
     "tableResultSettingsMap": {},
     "title": ""
    }
   },
   "source": [
    "###Lambda Function in Python"
   ]
  },
  {
   "cell_type": "markdown",
   "metadata": {
    "application/vnd.databricks.v1+cell": {
     "cellMetadata": {},
     "inputWidgets": {},
     "nuid": "f3141c81-0d3a-4797-80af-1590694a7f11",
     "showTitle": false,
     "tableResultSettingsMap": {},
     "title": ""
    }
   },
   "source": [
    "**###Syntax: \n",
    "\n",
    "lambda arguments: expression"
   ]
  },
  {
   "cell_type": "markdown",
   "metadata": {
    "application/vnd.databricks.v1+cell": {
     "cellMetadata": {},
     "inputWidgets": {},
     "nuid": "75c833db-1d30-4b75-a7db-fc648954ebdc",
     "showTitle": false,
     "tableResultSettingsMap": {},
     "title": ""
    }
   },
   "source": [
    "Lambda is a small, anonymous function means that the function is without a name."
   ]
  },
  {
   "cell_type": "code",
   "execution_count": 0,
   "metadata": {
    "application/vnd.databricks.v1+cell": {
     "cellMetadata": {
      "byteLimit": 2048000,
      "rowLimit": 10000
     },
     "inputWidgets": {},
     "nuid": "9997c27c-8e53-450f-84d8-df152501ff25",
     "showTitle": false,
     "tableResultSettingsMap": {},
     "title": ""
    }
   },
   "outputs": [
    {
     "output_type": "stream",
     "name": "stdout",
     "output_type": "stream",
     "text": [
      "geeksforgeeks\n"
     ]
    }
   ],
   "source": [
    "s1 = 'GeeksforGeeks'\n",
    "\n",
    "s2 =lambda func:func.lower()\n",
    "print(s2(s1))"
   ]
  },
  {
   "cell_type": "code",
   "execution_count": 0,
   "metadata": {
    "application/vnd.databricks.v1+cell": {
     "cellMetadata": {
      "byteLimit": 2048000,
      "rowLimit": 10000
     },
     "inputWidgets": {},
     "nuid": "d8ec439f-1683-4ab8-8dcc-83fd5c7ef539",
     "showTitle": false,
     "tableResultSettingsMap": {},
     "title": ""
    }
   },
   "outputs": [
    {
     "output_type": "stream",
     "name": "stdout",
     "output_type": "stream",
     "text": [
      "27\n"
     ]
    }
   ],
   "source": [
    "#Using lamda\n",
    "squ =lambda x: x**3\n",
    "print(squ(3))"
   ]
  },
  {
   "cell_type": "code",
   "execution_count": 0,
   "metadata": {
    "application/vnd.databricks.v1+cell": {
     "cellMetadata": {
      "byteLimit": 2048000,
      "rowLimit": 10000
     },
     "inputWidgets": {},
     "nuid": "93617641-c9e3-47a6-9985-000c033c713a",
     "showTitle": false,
     "tableResultSettingsMap": {},
     "title": ""
    }
   },
   "outputs": [
    {
     "output_type": "stream",
     "name": "stdout",
     "output_type": "stream",
     "text": [
      "512\n"
     ]
    }
   ],
   "source": [
    "#Using def\n",
    "def squ(x):\n",
    "    return x**3\n",
    "\n",
    "print(squ(8))    \n",
    "    "
   ]
  },
  {
   "cell_type": "code",
   "execution_count": 0,
   "metadata": {
    "application/vnd.databricks.v1+cell": {
     "cellMetadata": {
      "byteLimit": 2048000,
      "rowLimit": 10000
     },
     "inputWidgets": {},
     "nuid": "a15175ab-f244-4774-9da4-dfc078ff366d",
     "showTitle": false,
     "tableResultSettingsMap": {},
     "title": ""
    }
   },
   "outputs": [
    {
     "output_type": "stream",
     "name": "stdout",
     "output_type": "stream",
     "text": [
      "Even\nOdd\n"
     ]
    }
   ],
   "source": [
    "##Find even or odd\n",
    "\n",
    "check =lambda x:\"Even\" if x%2==0 else \"Odd\"\n",
    "\n",
    "print(check(22))\n",
    "print(check(343))\n"
   ]
  },
  {
   "cell_type": "code",
   "execution_count": 0,
   "metadata": {
    "application/vnd.databricks.v1+cell": {
     "cellMetadata": {},
     "inputWidgets": {},
     "nuid": "b64d9125-1cdb-40ad-931a-dc973df286b2",
     "showTitle": false,
     "tableResultSettingsMap": {},
     "title": ""
    }
   },
   "outputs": [],
   "source": []
  },
  {
   "cell_type": "code",
   "execution_count": 0,
   "metadata": {
    "application/vnd.databricks.v1+cell": {
     "cellMetadata": {
      "byteLimit": 2048000,
      "rowLimit": 10000
     },
     "inputWidgets": {},
     "nuid": "1d5da8bf-a915-4c42-8fe1-af600b7cb408",
     "showTitle": false,
     "tableResultSettingsMap": {},
     "title": ""
    }
   },
   "outputs": [
    {
     "output_type": "display_data",
     "data": {
      "text/plain": [
       "\u001B[0;31m---------------------------------------------------------------------------\u001B[0m\n",
       "\u001B[0;31mNameError\u001B[0m                                 Traceback (most recent call last)\n",
       "File \u001B[0;32m<command-1163289603491193>:7\u001B[0m\n",
       "\u001B[1;32m      3\u001B[0m \u001B[38;5;66;03m#Find Maximum Marks from List of Tuple in Python \u001B[39;00m\n",
       "\u001B[1;32m      5\u001B[0m s\u001B[38;5;241m=\u001B[39m\u001B[38;5;28;01mlambda\u001B[39;00m x:\u001B[38;5;124m\"\u001B[39m\u001B[38;5;124mMax\u001B[39m\u001B[38;5;124m\"\u001B[39m \u001B[38;5;28;01mif\u001B[39;00m marks \u001B[38;5;241m>\u001B[39m\u001B[38;5;241m50\u001B[39m \u001B[38;5;28;01melse\u001B[39;00m \u001B[38;5;124m\"\u001B[39m\u001B[38;5;124mLow\u001B[39m\u001B[38;5;124m\"\u001B[39m\n",
       "\u001B[0;32m----> 7\u001B[0m \u001B[38;5;28mprint\u001B[39m(s(\u001B[38;5;241m30\u001B[39m))\n",
       "\n",
       "File \u001B[0;32m<command-1163289603491193>:5\u001B[0m, in \u001B[0;36m<lambda>\u001B[0;34m(x)\u001B[0m\n",
       "\u001B[1;32m      1\u001B[0m students\u001B[38;5;241m=\u001B[39m[(\u001B[38;5;124m'\u001B[39m\u001B[38;5;124mDavid\u001B[39m\u001B[38;5;124m'\u001B[39m,\u001B[38;5;241m46\u001B[39m),(\u001B[38;5;124m'\u001B[39m\u001B[38;5;124mSam\u001B[39m\u001B[38;5;124m'\u001B[39m,\u001B[38;5;241m56\u001B[39m),(\u001B[38;5;124m'\u001B[39m\u001B[38;5;124mSagar\u001B[39m\u001B[38;5;124m'\u001B[39m,\u001B[38;5;241m90\u001B[39m)]\n",
       "\u001B[1;32m      3\u001B[0m \u001B[38;5;66;03m#Find Maximum Marks from List of Tuple in Python \u001B[39;00m\n",
       "\u001B[0;32m----> 5\u001B[0m s\u001B[38;5;241m=\u001B[39m\u001B[38;5;28;01mlambda\u001B[39;00m x:\u001B[38;5;124m\"\u001B[39m\u001B[38;5;124mMax\u001B[39m\u001B[38;5;124m\"\u001B[39m \u001B[38;5;28;01mif\u001B[39;00m \u001B[43mmarks\u001B[49m \u001B[38;5;241m>\u001B[39m\u001B[38;5;241m50\u001B[39m \u001B[38;5;28;01melse\u001B[39;00m \u001B[38;5;124m\"\u001B[39m\u001B[38;5;124mLow\u001B[39m\u001B[38;5;124m\"\u001B[39m\n",
       "\u001B[1;32m      7\u001B[0m \u001B[38;5;28mprint\u001B[39m(s(\u001B[38;5;241m30\u001B[39m))\n",
       "\n",
       "\u001B[0;31mNameError\u001B[0m: name 'marks' is not defined"
      ]
     },
     "metadata": {
      "application/vnd.databricks.v1+output": {
       "arguments": {},
       "data": "\u001B[0;31m---------------------------------------------------------------------------\u001B[0m\n\u001B[0;31mNameError\u001B[0m                                 Traceback (most recent call last)\nFile \u001B[0;32m<command-1163289603491193>:7\u001B[0m\n\u001B[1;32m      3\u001B[0m \u001B[38;5;66;03m#Find Maximum Marks from List of Tuple in Python \u001B[39;00m\n\u001B[1;32m      5\u001B[0m s\u001B[38;5;241m=\u001B[39m\u001B[38;5;28;01mlambda\u001B[39;00m x:\u001B[38;5;124m\"\u001B[39m\u001B[38;5;124mMax\u001B[39m\u001B[38;5;124m\"\u001B[39m \u001B[38;5;28;01mif\u001B[39;00m marks \u001B[38;5;241m>\u001B[39m\u001B[38;5;241m50\u001B[39m \u001B[38;5;28;01melse\u001B[39;00m \u001B[38;5;124m\"\u001B[39m\u001B[38;5;124mLow\u001B[39m\u001B[38;5;124m\"\u001B[39m\n\u001B[0;32m----> 7\u001B[0m \u001B[38;5;28mprint\u001B[39m(s(\u001B[38;5;241m30\u001B[39m))\n\nFile \u001B[0;32m<command-1163289603491193>:5\u001B[0m, in \u001B[0;36m<lambda>\u001B[0;34m(x)\u001B[0m\n\u001B[1;32m      1\u001B[0m students\u001B[38;5;241m=\u001B[39m[(\u001B[38;5;124m'\u001B[39m\u001B[38;5;124mDavid\u001B[39m\u001B[38;5;124m'\u001B[39m,\u001B[38;5;241m46\u001B[39m),(\u001B[38;5;124m'\u001B[39m\u001B[38;5;124mSam\u001B[39m\u001B[38;5;124m'\u001B[39m,\u001B[38;5;241m56\u001B[39m),(\u001B[38;5;124m'\u001B[39m\u001B[38;5;124mSagar\u001B[39m\u001B[38;5;124m'\u001B[39m,\u001B[38;5;241m90\u001B[39m)]\n\u001B[1;32m      3\u001B[0m \u001B[38;5;66;03m#Find Maximum Marks from List of Tuple in Python \u001B[39;00m\n\u001B[0;32m----> 5\u001B[0m s\u001B[38;5;241m=\u001B[39m\u001B[38;5;28;01mlambda\u001B[39;00m x:\u001B[38;5;124m\"\u001B[39m\u001B[38;5;124mMax\u001B[39m\u001B[38;5;124m\"\u001B[39m \u001B[38;5;28;01mif\u001B[39;00m \u001B[43mmarks\u001B[49m \u001B[38;5;241m>\u001B[39m\u001B[38;5;241m50\u001B[39m \u001B[38;5;28;01melse\u001B[39;00m \u001B[38;5;124m\"\u001B[39m\u001B[38;5;124mLow\u001B[39m\u001B[38;5;124m\"\u001B[39m\n\u001B[1;32m      7\u001B[0m \u001B[38;5;28mprint\u001B[39m(s(\u001B[38;5;241m30\u001B[39m))\n\n\u001B[0;31mNameError\u001B[0m: name 'marks' is not defined",
       "errorSummary": "<span class='ansi-red-fg'>NameError</span>: name 'marks' is not defined",
       "errorTraceType": "ansi",
       "metadata": {},
       "type": "ipynbError"
      }
     },
     "output_type": "display_data"
    }
   ],
   "source": [
    "students=[('David',46),('Sam',56),('Sagar',90)]\n",
    "\n",
    "#Find Maximum Marks from List of Tuple in Python \n",
    "\n",
    "s=lambda x:\"Max\" if marks >50 else \"Low\"\n",
    "\n",
    "print(s(30))"
   ]
  },
  {
   "cell_type": "markdown",
   "metadata": {
    "application/vnd.databricks.v1+cell": {
     "cellMetadata": {},
     "inputWidgets": {},
     "nuid": "5bd7e856-782f-499f-be64-a8536c7eb9c5",
     "showTitle": false,
     "tableResultSettingsMap": {},
     "title": ""
    }
   },
   "source": [
    "##How do you remove duplicates from a list?"
   ]
  },
  {
   "cell_type": "code",
   "execution_count": 0,
   "metadata": {
    "application/vnd.databricks.v1+cell": {
     "cellMetadata": {
      "byteLimit": 2048000,
      "rowLimit": 10000
     },
     "inputWidgets": {},
     "nuid": "c1c499d9-9f48-43e3-ad74-25b1dbefa2fa",
     "showTitle": false,
     "tableResultSettingsMap": {},
     "title": ""
    }
   },
   "outputs": [
    {
     "output_type": "stream",
     "name": "stdout",
     "output_type": "stream",
     "text": [
      "[1, 2, 3, 4]\n"
     ]
    }
   ],
   "source": [
    "arr = [1, 2, 2, 3, 4, 4]\n",
    "li=[]\n",
    "dedup=set(arr)\n",
    "li=list(dedup)\n",
    "\n",
    "print(li)"
   ]
  },
  {
   "cell_type": "markdown",
   "metadata": {
    "application/vnd.databricks.v1+cell": {
     "cellMetadata": {},
     "inputWidgets": {},
     "nuid": "c3b6f69c-1533-4ea7-bba6-1c858e614574",
     "showTitle": false,
     "tableResultSettingsMap": {},
     "title": ""
    }
   },
   "source": [
    "###How do you find the second largest element in a list without using built-in functions like sort()"
   ]
  },
  {
   "cell_type": "code",
   "execution_count": 0,
   "metadata": {
    "application/vnd.databricks.v1+cell": {
     "cellMetadata": {
      "byteLimit": 2048000,
      "rowLimit": 10000
     },
     "inputWidgets": {},
     "nuid": "e396e038-e3c1-458b-b4ba-aeff0f1f66de",
     "showTitle": false,
     "tableResultSettingsMap": {},
     "title": ""
    }
   },
   "outputs": [
    {
     "output_type": "stream",
     "name": "stdout",
     "output_type": "stream",
     "text": [
      "203\n"
     ]
    }
   ],
   "source": [
    "li=[10,203,403,2,30]\n",
    "def sec_larg(li):\n",
    "    unique_vals=list(set(li))\n",
    "    unique_vals.sort()\n",
    "    if len(unique_vals)<2:\n",
    "        return none\n",
    "    return unique_vals[-2]\n",
    "\n",
    "\n",
    "li=[10,203,403,2,30]\n",
    "print(sec_larg(li))"
   ]
  },
  {
   "cell_type": "code",
   "execution_count": 0,
   "metadata": {
    "application/vnd.databricks.v1+cell": {
     "cellMetadata": {},
     "inputWidgets": {},
     "nuid": "ae04c3a5-8bd8-478e-ac94-f2479c6ac212",
     "showTitle": false,
     "tableResultSettingsMap": {},
     "title": ""
    }
   },
   "outputs": [],
   "source": [
    "def sec_larg(lst):\n",
    "    first = second =float('-inf') \n",
    "    for num in lst:\n",
    "        if num > first:\n",
    "            second = first\n",
    "            first = num\n",
    "        elif first>num>second:\n",
    "            second = num\n",
    "    return second if else None\n",
    "\n",
    "li = [10, 203, 403, 2, 30]\n",
    "print(sec_larg(li))  # Expected: 203\n"
   ]
  },
  {
   "cell_type": "code",
   "execution_count": 0,
   "metadata": {
    "application/vnd.databricks.v1+cell": {
     "cellMetadata": {
      "byteLimit": 2048000,
      "rowLimit": 10000
     },
     "inputWidgets": {},
     "nuid": "311d027f-2b89-4581-9e28-858d6095b39e",
     "showTitle": false,
     "tableResultSettingsMap": {},
     "title": ""
    }
   },
   "outputs": [
    {
     "output_type": "stream",
     "name": "stdout",
     "output_type": "stream",
     "text": [
      "10\n"
     ]
    }
   ],
   "source": [
    "max_val=float('-inf')\n",
    "\n",
    "for num in [3,5,1,10]:\n",
    "    if num >max_val:\n",
    "        max_val=num\n",
    "\n",
    "print(max_val)"
   ]
  },
  {
   "cell_type": "markdown",
   "metadata": {
    "application/vnd.databricks.v1+cell": {
     "cellMetadata": {},
     "inputWidgets": {},
     "nuid": "f2e3e4c4-8da0-4347-99ba-607c04269bb2",
     "showTitle": false,
     "tableResultSettingsMap": {},
     "title": ""
    }
   },
   "source": [
    "##Sales Expense Dashboard using Python "
   ]
  },
  {
   "cell_type": "code",
   "execution_count": 0,
   "metadata": {
    "application/vnd.databricks.v1+cell": {
     "cellMetadata": {
      "byteLimit": 2048000,
      "rowLimit": 10000
     },
     "inputWidgets": {},
     "nuid": "65f15d7b-9188-4685-b579-a10918c48591",
     "showTitle": false,
     "tableResultSettingsMap": {},
     "title": ""
    }
   },
   "outputs": [
    {
     "output_type": "display_data",
     "data": {
      "text/plain": [
       "\u001B[0;31m---------------------------------------------------------------------------\u001B[0m\n",
       "\u001B[0;31mModuleNotFoundError\u001B[0m                       Traceback (most recent call last)\n",
       "File \u001B[0;32m<command-1216799385067994>:1\u001B[0m\n",
       "\u001B[0;32m----> 1\u001B[0m \u001B[38;5;28;01mimport\u001B[39;00m \u001B[38;5;21;01mstreamlit\u001B[39;00m \u001B[38;5;28;01mas\u001B[39;00m \u001B[38;5;21;01mst\u001B[39;00m\n",
       "\u001B[1;32m      2\u001B[0m \u001B[38;5;28;01mimport\u001B[39;00m \u001B[38;5;21;01mpandas\u001B[39;00m \u001B[38;5;28;01mas\u001B[39;00m \u001B[38;5;21;01mpd\u001B[39;00m\n",
       "\n",
       "File \u001B[0;32m/databricks/python_shell/dbruntime/PythonPackageImportsInstrumentation/__init__.py:171\u001B[0m, in \u001B[0;36m_create_import_patch.<locals>.import_patch\u001B[0;34m(name, globals, locals, fromlist, level)\u001B[0m\n",
       "\u001B[1;32m    166\u001B[0m thread_local\u001B[38;5;241m.\u001B[39m_nest_level \u001B[38;5;241m+\u001B[39m\u001B[38;5;241m=\u001B[39m \u001B[38;5;241m1\u001B[39m\n",
       "\u001B[1;32m    168\u001B[0m \u001B[38;5;28;01mtry\u001B[39;00m:\n",
       "\u001B[1;32m    169\u001B[0m     \u001B[38;5;66;03m# Import the desired module. If you’re seeing this while debugging a failed import,\u001B[39;00m\n",
       "\u001B[1;32m    170\u001B[0m     \u001B[38;5;66;03m# look at preceding stack frames for relevant error information.\u001B[39;00m\n",
       "\u001B[0;32m--> 171\u001B[0m     original_result \u001B[38;5;241m=\u001B[39m \u001B[43mpython_builtin_import\u001B[49m\u001B[43m(\u001B[49m\u001B[43mname\u001B[49m\u001B[43m,\u001B[49m\u001B[43m \u001B[49m\u001B[38;5;28;43mglobals\u001B[39;49m\u001B[43m,\u001B[49m\u001B[43m \u001B[49m\u001B[38;5;28;43mlocals\u001B[39;49m\u001B[43m,\u001B[49m\u001B[43m \u001B[49m\u001B[43mfromlist\u001B[49m\u001B[43m,\u001B[49m\u001B[43m \u001B[49m\u001B[43mlevel\u001B[49m\u001B[43m)\u001B[49m\n",
       "\u001B[1;32m    173\u001B[0m     is_root_import \u001B[38;5;241m=\u001B[39m thread_local\u001B[38;5;241m.\u001B[39m_nest_level \u001B[38;5;241m==\u001B[39m \u001B[38;5;241m1\u001B[39m\n",
       "\u001B[1;32m    174\u001B[0m     \u001B[38;5;66;03m# `level` represents the number of leading dots in a relative import statement.\u001B[39;00m\n",
       "\u001B[1;32m    175\u001B[0m     \u001B[38;5;66;03m# If it's zero, then this is an absolute import.\u001B[39;00m\n",
       "\n",
       "\u001B[0;31mModuleNotFoundError\u001B[0m: No module named 'streamlit'"
      ]
     },
     "metadata": {
      "application/vnd.databricks.v1+output": {
       "arguments": {},
       "data": "\u001B[0;31m---------------------------------------------------------------------------\u001B[0m\n\u001B[0;31mModuleNotFoundError\u001B[0m                       Traceback (most recent call last)\nFile \u001B[0;32m<command-1216799385067994>:1\u001B[0m\n\u001B[0;32m----> 1\u001B[0m \u001B[38;5;28;01mimport\u001B[39;00m \u001B[38;5;21;01mstreamlit\u001B[39;00m \u001B[38;5;28;01mas\u001B[39;00m \u001B[38;5;21;01mst\u001B[39;00m\n\u001B[1;32m      2\u001B[0m \u001B[38;5;28;01mimport\u001B[39;00m \u001B[38;5;21;01mpandas\u001B[39;00m \u001B[38;5;28;01mas\u001B[39;00m \u001B[38;5;21;01mpd\u001B[39;00m\n\nFile \u001B[0;32m/databricks/python_shell/dbruntime/PythonPackageImportsInstrumentation/__init__.py:171\u001B[0m, in \u001B[0;36m_create_import_patch.<locals>.import_patch\u001B[0;34m(name, globals, locals, fromlist, level)\u001B[0m\n\u001B[1;32m    166\u001B[0m thread_local\u001B[38;5;241m.\u001B[39m_nest_level \u001B[38;5;241m+\u001B[39m\u001B[38;5;241m=\u001B[39m \u001B[38;5;241m1\u001B[39m\n\u001B[1;32m    168\u001B[0m \u001B[38;5;28;01mtry\u001B[39;00m:\n\u001B[1;32m    169\u001B[0m     \u001B[38;5;66;03m# Import the desired module. If you’re seeing this while debugging a failed import,\u001B[39;00m\n\u001B[1;32m    170\u001B[0m     \u001B[38;5;66;03m# look at preceding stack frames for relevant error information.\u001B[39;00m\n\u001B[0;32m--> 171\u001B[0m     original_result \u001B[38;5;241m=\u001B[39m \u001B[43mpython_builtin_import\u001B[49m\u001B[43m(\u001B[49m\u001B[43mname\u001B[49m\u001B[43m,\u001B[49m\u001B[43m \u001B[49m\u001B[38;5;28;43mglobals\u001B[39;49m\u001B[43m,\u001B[49m\u001B[43m \u001B[49m\u001B[38;5;28;43mlocals\u001B[39;49m\u001B[43m,\u001B[49m\u001B[43m \u001B[49m\u001B[43mfromlist\u001B[49m\u001B[43m,\u001B[49m\u001B[43m \u001B[49m\u001B[43mlevel\u001B[49m\u001B[43m)\u001B[49m\n\u001B[1;32m    173\u001B[0m     is_root_import \u001B[38;5;241m=\u001B[39m thread_local\u001B[38;5;241m.\u001B[39m_nest_level \u001B[38;5;241m==\u001B[39m \u001B[38;5;241m1\u001B[39m\n\u001B[1;32m    174\u001B[0m     \u001B[38;5;66;03m# `level` represents the number of leading dots in a relative import statement.\u001B[39;00m\n\u001B[1;32m    175\u001B[0m     \u001B[38;5;66;03m# If it's zero, then this is an absolute import.\u001B[39;00m\n\n\u001B[0;31mModuleNotFoundError\u001B[0m: No module named 'streamlit'",
       "errorSummary": "<span class='ansi-red-fg'>ModuleNotFoundError</span>: No module named 'streamlit'",
       "errorTraceType": "ansi",
       "metadata": {},
       "type": "ipynbError"
      }
     },
     "output_type": "display_data"
    }
   ],
   "source": [
    "import streamlit as st\n",
    "import pandas as pd\n",
    "\n",
    "#"
   ]
  },
  {
   "cell_type": "code",
   "execution_count": 0,
   "metadata": {
    "application/vnd.databricks.v1+cell": {
     "cellMetadata": {
      "byteLimit": 2048000,
      "rowLimit": 10000
     },
     "inputWidgets": {},
     "nuid": "93b3f870-e3d6-4924-b85a-b1780a964cd7",
     "showTitle": false,
     "tableResultSettingsMap": {},
     "title": ""
    }
   },
   "outputs": [
    {
     "output_type": "stream",
     "name": "stdout",
     "output_type": "stream",
     "text": [
      "[1, 'Hello', [3.14, 'world'], 2]\n"
     ]
    }
   ],
   "source": [
    "a = [1, \"Hello\", [3.14, \"world\"]]\n",
    "a.insert(102,2)\n",
    "print(a)"
   ]
  },
  {
   "cell_type": "markdown",
   "metadata": {
    "application/vnd.databricks.v1+cell": {
     "cellMetadata": {},
     "inputWidgets": {},
     "nuid": "8c3ea444-dad1-40d9-b876-d2c9ec36bb2d",
     "showTitle": false,
     "tableResultSettingsMap": {},
     "title": ""
    }
   },
   "source": [
    "##Create an array"
   ]
  },
  {
   "cell_type": "code",
   "execution_count": 0,
   "metadata": {
    "application/vnd.databricks.v1+cell": {
     "cellMetadata": {
      "byteLimit": 2048000,
      "rowLimit": 10000
     },
     "inputWidgets": {},
     "nuid": "64a45e73-b961-4529-9429-55ddc758939b",
     "showTitle": false,
     "tableResultSettingsMap": {},
     "title": ""
    }
   },
   "outputs": [
    {
     "output_type": "stream",
     "name": "stdout",
     "output_type": "stream",
     "text": [
      "1 2 3 "
     ]
    }
   ],
   "source": [
    "import array as arr\n",
    "\n",
    "#creating array of integers\n",
    "\n",
    "a=arr.array('i',[1,2,3,4])\n",
    "#iterating and printing each item\n",
    "\n",
    "for i in range(0,3):\n",
    "  print(a[i], end=\" \")"
   ]
  },
  {
   "cell_type": "markdown",
   "metadata": {
    "application/vnd.databricks.v1+cell": {
     "cellMetadata": {},
     "inputWidgets": {},
     "nuid": "59a43dc6-d6e6-4b40-9e22-d5753166c636",
     "showTitle": false,
     "tableResultSettingsMap": {},
     "title": ""
    }
   },
   "source": [
    "##Accessing Array Items\n"
   ]
  },
  {
   "cell_type": "code",
   "execution_count": 0,
   "metadata": {
    "application/vnd.databricks.v1+cell": {
     "cellMetadata": {
      "byteLimit": 2048000,
      "rowLimit": 10000
     },
     "inputWidgets": {},
     "nuid": "576fe15b-1d08-4325-8e86-b04db5ef6b29",
     "showTitle": false,
     "tableResultSettingsMap": {},
     "title": ""
    }
   },
   "outputs": [
    {
     "output_type": "stream",
     "name": "stdout",
     "output_type": "stream",
     "text": [
      "[1, 2, 3, 4, 6]\n[1, 3, 4, 6]\n"
     ]
    }
   ],
   "source": [
    "import array as arr\n",
    "a=[1,2,3,4,5,6]\n",
    "\n",
    "a[3]\n",
    "#remove an array element is removing the first occurence of the '5'\n",
    "\n",
    "a.remove(5)\n",
    "print(a)\n",
    "#pop removes the index based element\n",
    "\n",
    "a.remove(2)\n",
    "print(a)"
   ]
  },
  {
   "cell_type": "markdown",
   "metadata": {
    "application/vnd.databricks.v1+cell": {
     "cellMetadata": {},
     "inputWidgets": {},
     "nuid": "9344a07a-e8a7-40d3-b304-39cfd8578f55",
     "showTitle": false,
     "tableResultSettingsMap": {},
     "title": ""
    }
   },
   "source": [
    "Elements from beginning to a range use [:Index]\n",
    "\n",
    "\n",
    "Elements from end use [:-Index]\n",
    "\n",
    "\n",
    "Elements from specific Index till the end use [Index:]\n",
    "\n",
    "\n",
    "Elements within a range, use [Start Index:End Index]\n",
    "\n",
    "\n",
    "Print complete List, use [:].\n",
    "\n",
    "For Reverse list, use [::-1]."
   ]
  },
  {
   "cell_type": "code",
   "execution_count": 0,
   "metadata": {
    "application/vnd.databricks.v1+cell": {
     "cellMetadata": {
      "byteLimit": 2048000,
      "rowLimit": 10000
     },
     "inputWidgets": {},
     "nuid": "34e11e8a-0371-46a3-9ba4-612bbf5a2a27",
     "showTitle": false,
     "tableResultSettingsMap": {},
     "title": ""
    }
   },
   "outputs": [
    {
     "output_type": "stream",
     "name": "stdout",
     "output_type": "stream",
     "text": [
      "[23, 44, 53.4, 54, 1]\n[1, 54, 53.4, 44, 23]\n[53.4, 54]\n"
     ]
    }
   ],
   "source": [
    "import array as arr\n",
    "arr=[23,44,53.4,54,1]\n",
    "\n",
    "print(arr[:])\n",
    "print(arr[::-1])\n",
    "print(arr[2:4])"
   ]
  },
  {
   "cell_type": "code",
   "execution_count": 0,
   "metadata": {
    "application/vnd.databricks.v1+cell": {
     "cellMetadata": {
      "byteLimit": 2048000,
      "rowLimit": 10000
     },
     "inputWidgets": {},
     "nuid": "780c4bca-49f7-4e26-8134-69b0f7cbf9b6",
     "showTitle": false,
     "tableResultSettingsMap": {},
     "title": ""
    }
   },
   "outputs": [
    {
     "output_type": "stream",
     "name": "stdout",
     "output_type": "stream",
     "text": [
      "4\n1\n"
     ]
    }
   ],
   "source": [
    "import array as arr\n",
    "arr=[23,44,53.4,54,1]\n",
    "\n",
    "print(arr.index(1))\n",
    "print(arr.index(44))"
   ]
  },
  {
   "cell_type": "code",
   "execution_count": 0,
   "metadata": {
    "application/vnd.databricks.v1+cell": {
     "cellMetadata": {},
     "inputWidgets": {},
     "nuid": "57189d25-f752-41c3-ab25-ac7081795a7f",
     "showTitle": false,
     "tableResultSettingsMap": {},
     "title": ""
    }
   },
   "outputs": [],
   "source": []
  }
 ],
 "metadata": {
  "application/vnd.databricks.v1+notebook": {
   "computePreferences": null,
   "dashboards": [],
   "environmentMetadata": {
    "base_environment": "",
    "environment_version": "1"
   },
   "inputWidgetPreferences": null,
   "language": "python",
   "notebookMetadata": {
    "pythonIndentUnit": 4
   },
   "notebookName": "Python practice Solving",
   "widgets": {}
  }
 },
 "nbformat": 4,
 "nbformat_minor": 0
}